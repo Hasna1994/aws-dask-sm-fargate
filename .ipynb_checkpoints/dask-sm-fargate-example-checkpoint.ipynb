{
 "cells": [
  {
   "cell_type": "markdown",
   "metadata": {},
   "source": [
    "# Machine Learning on Distributed Dask with SageMaker and Fargate\n",
    "\n",
    "This notebook will demonstrate how to perform Machine Learning on Distributed Dask using SageMaker and Fargate.  We will demo how to connect to distributed dask fargate cluster, scale out dask worker nodes, perform EDA work on public newyork cab trip data sets. Then, we demonstrate how you can run regression algorithms and hyperparameters optimization on distributed dask cluster. Next, we will demonstrate how you can monitor the operational metrics of Dask Cluster that will be fronted by Network Load Balancer for accessing the Dask Cluster Status UI from internet. Finally, we will close with how to build your own python script container and run against the dask fargate cluster.  This notebook was inspired by customer use case where they were running dask on local computer for building regression models.   "
   ]
  },
  {
   "cell_type": "markdown",
   "metadata": {},
   "source": [
    "## Setup required packages"
   ]
  },
  {
   "cell_type": "code",
   "execution_count": null,
   "metadata": {
    "scrolled": true
   },
   "outputs": [],
   "source": [
    "#!conda update -y dask"
   ]
  },
  {
   "cell_type": "code",
   "execution_count": null,
   "metadata": {},
   "outputs": [],
   "source": [
    "#!conda install -y s3fs"
   ]
  },
  {
   "cell_type": "code",
   "execution_count": null,
   "metadata": {},
   "outputs": [],
   "source": [
    "#!conda install -c anaconda lz4 -y"
   ]
  },
  {
   "cell_type": "code",
   "execution_count": null,
   "metadata": {},
   "outputs": [],
   "source": [
    "#!conda install -c conda-forge dask-ml -y"
   ]
  },
  {
   "cell_type": "code",
   "execution_count": null,
   "metadata": {},
   "outputs": [],
   "source": [
    "#!conda install -c anaconda joblib -y"
   ]
  },
  {
   "cell_type": "code",
   "execution_count": null,
   "metadata": {},
   "outputs": [],
   "source": [
    "#!conda install scikit-learn=0.21 -y"
   ]
  },
  {
   "cell_type": "code",
   "execution_count": null,
   "metadata": {},
   "outputs": [],
   "source": [
    "#!conda update -y scikit-learn"
   ]
  },
  {
   "cell_type": "markdown",
   "metadata": {},
   "source": [
    "## Connect to Dask Fargate Cluster.  You need to provision this cluster following the instructions from here https://github.com/rvvittal/aws-dask-sm-fargate"
   ]
  },
  {
   "cell_type": "code",
   "execution_count": 8,
   "metadata": {},
   "outputs": [],
   "source": [
    "from dask.distributed import Client\n",
    "#client = Client('Dask-Scheduler.local-dask:8786')\n",
    "client = Client('127.0.0.1:8786')\n"
   ]
  },
  {
   "cell_type": "markdown",
   "metadata": {},
   "source": [
    "## Scale out the number of dask workers as needed for your data science work"
   ]
  },
  {
   "cell_type": "code",
   "execution_count": null,
   "metadata": {},
   "outputs": [],
   "source": [
    "#!conda install -c conda-forge awscli -y"
   ]
  },
  {
   "cell_type": "code",
   "execution_count": null,
   "metadata": {},
   "outputs": [],
   "source": [
    "#!aws ecs update-service --service Dask-Workers --desired-count 20 --cluster Fargate-Dask-Cluster"
   ]
  },
  {
   "cell_type": "markdown",
   "metadata": {},
   "source": [
    "## Restart the client after scale out operation"
   ]
  },
  {
   "cell_type": "code",
   "execution_count": 9,
   "metadata": {
    "scrolled": true
   },
   "outputs": [
    {
     "data": {
      "text/html": [
       "<table style=\"border: 2px solid white;\">\n",
       "<tr>\n",
       "<td style=\"vertical-align: top; border: 0px solid white\">\n",
       "<h3 style=\"text-align: left;\">Client</h3>\n",
       "<ul style=\"text-align: left; list-style: none; margin: 0; padding: 0;\">\n",
       "  <li><b>Scheduler: </b>tcp://127.0.0.1:8786</li>\n",
       "  <li><b>Dashboard: </b><a href='http://127.0.0.1:8787/status' target='_blank'>http://127.0.0.1:8787/status</a>\n",
       "</ul>\n",
       "</td>\n",
       "<td style=\"vertical-align: top; border: 0px solid white\">\n",
       "<h3 style=\"text-align: left;\">Cluster</h3>\n",
       "<ul style=\"text-align: left; list-style:none; margin: 0; padding: 0;\">\n",
       "  <li><b>Workers: </b>3</li>\n",
       "  <li><b>Cores: </b>36</li>\n",
       "  <li><b>Memory: </b>51.54 GB</li>\n",
       "</ul>\n",
       "</td>\n",
       "</tr>\n",
       "</table>"
      ],
      "text/plain": [
       "<Client: 'tcp://192.168.1.24:8786' processes=0 threads=0, memory=0 B>"
      ]
     },
     "execution_count": 9,
     "metadata": {},
     "output_type": "execute_result"
    }
   ],
   "source": [
    "client.restart()"
   ]
  },
  {
   "cell_type": "markdown",
   "metadata": {},
   "source": [
    "## Load dask dataframe with the trip data\n"
   ]
  },
  {
   "cell_type": "markdown",
   "metadata": {},
   "source": [
    "## TODO: Introduction to Dask DataFrame"
   ]
  },
  {
   "cell_type": "code",
   "execution_count": 10,
   "metadata": {},
   "outputs": [],
   "source": [
    "import s3fs\n",
    "import dask.dataframe as dd\n",
    "import boto3\n",
    "import dask.distributed\n",
    "#df = dd.read_csv('s3://octank-claims-web/public-data/yellow_tripdata_2018-01.csv', storage_options={'anon': False})\n",
    "# df = dd.read_csv('s3://nyc-tlc/trip data/green_tripdata_2018-02.csv', storage_options={'anon': True})"
   ]
  },
  {
   "cell_type": "code",
   "execution_count": 11,
   "metadata": {},
   "outputs": [],
   "source": [
    "df = dd.read_csv(\n",
    "    's3://nyc-tlc/trip data/green_tripdata_2018-02.csv', storage_options={'anon': True},\n",
    "    parse_dates=['lpep_pickup_datetime', 'lpep_dropoff_datetime'],\n",
    ").sample(frac=0.1, replace=True)\n"
   ]
  },
  {
   "cell_type": "code",
   "execution_count": 12,
   "metadata": {
    "scrolled": true
   },
   "outputs": [
    {
     "data": {
      "text/html": [
       "<div>\n",
       "<style scoped>\n",
       "    .dataframe tbody tr th:only-of-type {\n",
       "        vertical-align: middle;\n",
       "    }\n",
       "\n",
       "    .dataframe tbody tr th {\n",
       "        vertical-align: top;\n",
       "    }\n",
       "\n",
       "    .dataframe thead th {\n",
       "        text-align: right;\n",
       "    }\n",
       "</style>\n",
       "<table border=\"1\" class=\"dataframe\">\n",
       "  <thead>\n",
       "    <tr style=\"text-align: right;\">\n",
       "      <th></th>\n",
       "      <th>VendorID</th>\n",
       "      <th>lpep_pickup_datetime</th>\n",
       "      <th>lpep_dropoff_datetime</th>\n",
       "      <th>store_and_fwd_flag</th>\n",
       "      <th>RatecodeID</th>\n",
       "      <th>PULocationID</th>\n",
       "      <th>DOLocationID</th>\n",
       "      <th>passenger_count</th>\n",
       "      <th>trip_distance</th>\n",
       "      <th>fare_amount</th>\n",
       "      <th>extra</th>\n",
       "      <th>mta_tax</th>\n",
       "      <th>tip_amount</th>\n",
       "      <th>tolls_amount</th>\n",
       "      <th>ehail_fee</th>\n",
       "      <th>improvement_surcharge</th>\n",
       "      <th>total_amount</th>\n",
       "      <th>payment_type</th>\n",
       "      <th>trip_type</th>\n",
       "    </tr>\n",
       "  </thead>\n",
       "  <tbody>\n",
       "    <tr>\n",
       "      <th>383109</th>\n",
       "      <td>1</td>\n",
       "      <td>2018-02-14 19:52:39</td>\n",
       "      <td>2018-02-14 20:01:56</td>\n",
       "      <td>N</td>\n",
       "      <td>1</td>\n",
       "      <td>52</td>\n",
       "      <td>97</td>\n",
       "      <td>1</td>\n",
       "      <td>1.20</td>\n",
       "      <td>7.5</td>\n",
       "      <td>1.0</td>\n",
       "      <td>0.5</td>\n",
       "      <td>0.50</td>\n",
       "      <td>0.0</td>\n",
       "      <td>NaN</td>\n",
       "      <td>0.3</td>\n",
       "      <td>9.80</td>\n",
       "      <td>1</td>\n",
       "      <td>1</td>\n",
       "    </tr>\n",
       "    <tr>\n",
       "      <th>478869</th>\n",
       "      <td>1</td>\n",
       "      <td>2018-02-17 22:29:56</td>\n",
       "      <td>2018-02-17 22:45:34</td>\n",
       "      <td>N</td>\n",
       "      <td>1</td>\n",
       "      <td>256</td>\n",
       "      <td>114</td>\n",
       "      <td>1</td>\n",
       "      <td>3.10</td>\n",
       "      <td>13.0</td>\n",
       "      <td>0.5</td>\n",
       "      <td>0.5</td>\n",
       "      <td>2.70</td>\n",
       "      <td>0.0</td>\n",
       "      <td>NaN</td>\n",
       "      <td>0.3</td>\n",
       "      <td>17.00</td>\n",
       "      <td>1</td>\n",
       "      <td>1</td>\n",
       "    </tr>\n",
       "    <tr>\n",
       "      <th>187608</th>\n",
       "      <td>2</td>\n",
       "      <td>2018-02-07 17:10:41</td>\n",
       "      <td>2018-02-07 17:17:53</td>\n",
       "      <td>N</td>\n",
       "      <td>1</td>\n",
       "      <td>29</td>\n",
       "      <td>108</td>\n",
       "      <td>1</td>\n",
       "      <td>2.00</td>\n",
       "      <td>8.5</td>\n",
       "      <td>1.0</td>\n",
       "      <td>0.5</td>\n",
       "      <td>0.00</td>\n",
       "      <td>0.0</td>\n",
       "      <td>NaN</td>\n",
       "      <td>0.3</td>\n",
       "      <td>10.30</td>\n",
       "      <td>1</td>\n",
       "      <td>1</td>\n",
       "    </tr>\n",
       "    <tr>\n",
       "      <th>79959</th>\n",
       "      <td>2</td>\n",
       "      <td>2018-02-03 16:52:03</td>\n",
       "      <td>2018-02-03 16:59:41</td>\n",
       "      <td>N</td>\n",
       "      <td>1</td>\n",
       "      <td>75</td>\n",
       "      <td>141</td>\n",
       "      <td>1</td>\n",
       "      <td>1.49</td>\n",
       "      <td>7.0</td>\n",
       "      <td>0.0</td>\n",
       "      <td>0.5</td>\n",
       "      <td>1.56</td>\n",
       "      <td>0.0</td>\n",
       "      <td>NaN</td>\n",
       "      <td>0.3</td>\n",
       "      <td>9.36</td>\n",
       "      <td>1</td>\n",
       "      <td>1</td>\n",
       "    </tr>\n",
       "    <tr>\n",
       "      <th>152908</th>\n",
       "      <td>2</td>\n",
       "      <td>2018-02-06 12:29:40</td>\n",
       "      <td>2018-02-06 13:01:56</td>\n",
       "      <td>N</td>\n",
       "      <td>1</td>\n",
       "      <td>145</td>\n",
       "      <td>37</td>\n",
       "      <td>1</td>\n",
       "      <td>12.03</td>\n",
       "      <td>36.0</td>\n",
       "      <td>0.0</td>\n",
       "      <td>0.5</td>\n",
       "      <td>0.00</td>\n",
       "      <td>0.0</td>\n",
       "      <td>NaN</td>\n",
       "      <td>0.3</td>\n",
       "      <td>36.80</td>\n",
       "      <td>2</td>\n",
       "      <td>1</td>\n",
       "    </tr>\n",
       "  </tbody>\n",
       "</table>\n",
       "</div>"
      ],
      "text/plain": [
       "        VendorID lpep_pickup_datetime lpep_dropoff_datetime  \\\n",
       "383109         1  2018-02-14 19:52:39   2018-02-14 20:01:56   \n",
       "478869         1  2018-02-17 22:29:56   2018-02-17 22:45:34   \n",
       "187608         2  2018-02-07 17:10:41   2018-02-07 17:17:53   \n",
       "79959          2  2018-02-03 16:52:03   2018-02-03 16:59:41   \n",
       "152908         2  2018-02-06 12:29:40   2018-02-06 13:01:56   \n",
       "\n",
       "       store_and_fwd_flag  RatecodeID  PULocationID  DOLocationID  \\\n",
       "383109                  N           1            52            97   \n",
       "478869                  N           1           256           114   \n",
       "187608                  N           1            29           108   \n",
       "79959                   N           1            75           141   \n",
       "152908                  N           1           145            37   \n",
       "\n",
       "        passenger_count  trip_distance  fare_amount  extra  mta_tax  \\\n",
       "383109                1           1.20          7.5    1.0      0.5   \n",
       "478869                1           3.10         13.0    0.5      0.5   \n",
       "187608                1           2.00          8.5    1.0      0.5   \n",
       "79959                 1           1.49          7.0    0.0      0.5   \n",
       "152908                1          12.03         36.0    0.0      0.5   \n",
       "\n",
       "        tip_amount  tolls_amount  ehail_fee  improvement_surcharge  \\\n",
       "383109        0.50           0.0        NaN                    0.3   \n",
       "478869        2.70           0.0        NaN                    0.3   \n",
       "187608        0.00           0.0        NaN                    0.3   \n",
       "79959         1.56           0.0        NaN                    0.3   \n",
       "152908        0.00           0.0        NaN                    0.3   \n",
       "\n",
       "        total_amount  payment_type  trip_type  \n",
       "383109          9.80             1          1  \n",
       "478869         17.00             1          1  \n",
       "187608         10.30             1          1  \n",
       "79959           9.36             1          1  \n",
       "152908         36.80             2          1  "
      ]
     },
     "execution_count": 12,
     "metadata": {},
     "output_type": "execute_result"
    }
   ],
   "source": [
    "df.head()"
   ]
  },
  {
   "cell_type": "code",
   "execution_count": 13,
   "metadata": {},
   "outputs": [
    {
     "data": {
      "text/plain": [
       "76994"
      ]
     },
     "execution_count": 13,
     "metadata": {},
     "output_type": "execute_result"
    }
   ],
   "source": [
    "# load and count number of rows\n",
    "len(df)"
   ]
  },
  {
   "cell_type": "code",
   "execution_count": 14,
   "metadata": {},
   "outputs": [
    {
     "data": {
      "text/plain": [
       "VendorID                          int64\n",
       "lpep_pickup_datetime     datetime64[ns]\n",
       "lpep_dropoff_datetime    datetime64[ns]\n",
       "store_and_fwd_flag               object\n",
       "RatecodeID                        int64\n",
       "PULocationID                      int64\n",
       "DOLocationID                      int64\n",
       "passenger_count                   int64\n",
       "trip_distance                   float64\n",
       "fare_amount                     float64\n",
       "extra                           float64\n",
       "mta_tax                         float64\n",
       "tip_amount                      float64\n",
       "tolls_amount                    float64\n",
       "ehail_fee                       float64\n",
       "improvement_surcharge           float64\n",
       "total_amount                    float64\n",
       "payment_type                      int64\n",
       "trip_type                         int64\n",
       "dtype: object"
      ]
     },
     "execution_count": 14,
     "metadata": {},
     "output_type": "execute_result"
    }
   ],
   "source": [
    "df.dtypes"
   ]
  },
  {
   "cell_type": "markdown",
   "metadata": {},
   "source": [
    "## Persist multiple Dask collections into memory"
   ]
  },
  {
   "cell_type": "code",
   "execution_count": 15,
   "metadata": {},
   "outputs": [
    {
     "name": "stdout",
     "output_type": "stream",
     "text": [
      "        VendorID lpep_pickup_datetime lpep_dropoff_datetime  \\\n",
      "383109         1  2018-02-14 19:52:39   2018-02-14 20:01:56   \n",
      "478869         1  2018-02-17 22:29:56   2018-02-17 22:45:34   \n",
      "187608         2  2018-02-07 17:10:41   2018-02-07 17:17:53   \n",
      "79959          2  2018-02-03 16:52:03   2018-02-03 16:59:41   \n",
      "152908         2  2018-02-06 12:29:40   2018-02-06 13:01:56   \n",
      "\n",
      "       store_and_fwd_flag  RatecodeID  PULocationID  DOLocationID  \\\n",
      "383109                  N           1            52            97   \n",
      "478869                  N           1           256           114   \n",
      "187608                  N           1            29           108   \n",
      "79959                   N           1            75           141   \n",
      "152908                  N           1           145            37   \n",
      "\n",
      "        passenger_count  trip_distance  fare_amount  extra  mta_tax  \\\n",
      "383109                1           1.20          7.5    1.0      0.5   \n",
      "478869                1           3.10         13.0    0.5      0.5   \n",
      "187608                1           2.00          8.5    1.0      0.5   \n",
      "79959                 1           1.49          7.0    0.0      0.5   \n",
      "152908                1          12.03         36.0    0.0      0.5   \n",
      "\n",
      "        tip_amount  tolls_amount  ehail_fee  improvement_surcharge  \\\n",
      "383109        0.50           0.0        NaN                    0.3   \n",
      "478869        2.70           0.0        NaN                    0.3   \n",
      "187608        0.00           0.0        NaN                    0.3   \n",
      "79959         1.56           0.0        NaN                    0.3   \n",
      "152908        0.00           0.0        NaN                    0.3   \n",
      "\n",
      "        total_amount  payment_type  trip_type  \n",
      "383109          9.80             1          1  \n",
      "478869         17.00             1          1  \n",
      "187608         10.30             1          1  \n",
      "79959           9.36             1          1  \n",
      "152908         36.80             2          1  \n"
     ]
    }
   ],
   "source": [
    "df_persisted = client.persist(df)\n",
    "print(df_persisted.head())"
   ]
  },
  {
   "cell_type": "markdown",
   "metadata": {},
   "source": [
    "## Compute the mean trip distance grouped by the number of passengers"
   ]
  },
  {
   "cell_type": "code",
   "execution_count": 16,
   "metadata": {
    "scrolled": true
   },
   "outputs": [
    {
     "name": "stdout",
     "output_type": "stream",
     "text": [
      "passenger_count\n",
      "0    1.923626\n",
      "1    2.728582\n",
      "2    2.781803\n",
      "3    2.820273\n",
      "4    2.608634\n",
      "5    2.736332\n",
      "6    2.686378\n",
      "8    0.970000\n",
      "Name: trip_distance, dtype: float64\n"
     ]
    }
   ],
   "source": [
    "grouped_df = df.groupby(df_persisted.passenger_count).trip_distance.mean().compute()\n",
    "print(grouped_df)"
   ]
  },
  {
   "cell_type": "markdown",
   "metadata": {},
   "source": [
    "## Compute Max trip distance"
   ]
  },
  {
   "cell_type": "code",
   "execution_count": 17,
   "metadata": {
    "scrolled": true
   },
   "outputs": [
    {
     "name": "stdout",
     "output_type": "stream",
     "text": [
      "41.99\n"
     ]
    }
   ],
   "source": [
    "max_trip_dist = df_persisted.trip_distance.max().compute()\n",
    "print(max_trip_dist)"
   ]
  },
  {
   "cell_type": "markdown",
   "metadata": {},
   "source": [
    "## Count the total trip distance and count for each vendor"
   ]
  },
  {
   "cell_type": "code",
   "execution_count": 18,
   "metadata": {},
   "outputs": [
    {
     "name": "stdout",
     "output_type": "stream",
     "text": [
      "CPU times: user 43.1 ms, sys: 4.03 ms, total: 47.1 ms\n",
      "Wall time: 19 s\n"
     ]
    },
    {
     "data": {
      "text/html": [
       "<div>\n",
       "<style scoped>\n",
       "    .dataframe tbody tr th:only-of-type {\n",
       "        vertical-align: middle;\n",
       "    }\n",
       "\n",
       "    .dataframe tbody tr th {\n",
       "        vertical-align: top;\n",
       "    }\n",
       "\n",
       "    .dataframe thead th {\n",
       "        text-align: right;\n",
       "    }\n",
       "</style>\n",
       "<table border=\"1\" class=\"dataframe\">\n",
       "  <thead>\n",
       "    <tr style=\"text-align: right;\">\n",
       "      <th></th>\n",
       "      <th>VendorID</th>\n",
       "      <th>Trip Count</th>\n",
       "      <th>trip_distance</th>\n",
       "    </tr>\n",
       "  </thead>\n",
       "  <tbody>\n",
       "    <tr>\n",
       "      <th>0</th>\n",
       "      <td>1</td>\n",
       "      <td>13224</td>\n",
       "      <td>34598</td>\n",
       "    </tr>\n",
       "    <tr>\n",
       "      <th>1</th>\n",
       "      <td>2</td>\n",
       "      <td>63770</td>\n",
       "      <td>175755</td>\n",
       "    </tr>\n",
       "  </tbody>\n",
       "</table>\n",
       "</div>"
      ],
      "text/plain": [
       "   VendorID  Trip Count  trip_distance\n",
       "0         1       13224          34598\n",
       "1         2       63770         175755"
      ]
     },
     "execution_count": 18,
     "metadata": {},
     "output_type": "execute_result"
    }
   ],
   "source": [
    "%%time\n",
    "df.groupby('VendorID').agg({'passenger_count':'count', 'trip_distance': 'sum'}).astype(int).reset_index()\\\n",
    ".rename(columns={'passenger_count':'Trip Count'}).compute()"
   ]
  },
  {
   "cell_type": "markdown",
   "metadata": {},
   "source": [
    "## Count Missing Values for Each Feature"
   ]
  },
  {
   "cell_type": "code",
   "execution_count": 19,
   "metadata": {},
   "outputs": [
    {
     "data": {
      "text/plain": [
       "VendorID                     0\n",
       "lpep_pickup_datetime         0\n",
       "lpep_dropoff_datetime        0\n",
       "store_and_fwd_flag           0\n",
       "RatecodeID                   0\n",
       "PULocationID                 0\n",
       "DOLocationID                 0\n",
       "passenger_count              0\n",
       "trip_distance                0\n",
       "fare_amount                  0\n",
       "extra                        0\n",
       "mta_tax                      0\n",
       "tip_amount                   0\n",
       "tolls_amount                 0\n",
       "ehail_fee                76994\n",
       "improvement_surcharge        0\n",
       "total_amount                 0\n",
       "payment_type                 0\n",
       "trip_type                    0\n",
       "dtype: int64"
      ]
     },
     "execution_count": 19,
     "metadata": {},
     "output_type": "execute_result"
    }
   ],
   "source": [
    "df.isna().sum().compute()"
   ]
  },
  {
   "cell_type": "markdown",
   "metadata": {},
   "source": [
    "## Visual EDA  \n",
    "- ref https://medium.com/datadriveninvestor/analyzing-big-data-with-dask-a05a8798da8c"
   ]
  },
  {
   "cell_type": "code",
   "execution_count": 20,
   "metadata": {},
   "outputs": [],
   "source": [
    "##Selecting top 10 rides based on fare amount\n",
    "most_paid_rides_dask = df[['PULocationID', 'fare_amount']].nlargest(10, \"fare_amount\")"
   ]
  },
  {
   "cell_type": "code",
   "execution_count": 21,
   "metadata": {},
   "outputs": [
    {
     "data": {
      "image/png": "[encoded data removed]",
      "text/plain": [
       "<Figure size 720x576 with 1 Axes>"
      ]
     },
     "metadata": {
      "needs_background": "light"
     },
     "output_type": "display_data"
    }
   ],
   "source": [
    "##Visualizing most paid rides through Barplot\n",
    "import matplotlib.pyplot as plt\n",
    "most_paid_rides_dask.set_index('PULocationID',sorted=True).compute().plot(kind='barh',stacked=False, figsize=[10,8], legend=True)\n",
    "#######\n",
    "plt.title('Most Paid Rides')\n",
    "plt.xlabel('Fare Amount')\n",
    "plt.ylabel('PU LocationID')\n",
    "plt.show()\n"
   ]
  },
  {
   "cell_type": "code",
   "execution_count": 22,
   "metadata": {},
   "outputs": [
    {
     "data": {
      "image/png": "[encoded data removed]",
      "text/plain": [
       "<Figure size 720x576 with 1 Axes>"
      ]
     },
     "metadata": {
      "needs_background": "light"
     },
     "output_type": "display_data"
    }
   ],
   "source": [
    "##Visualizing trip distance through Barplot\n",
    "import matplotlib.pyplot as plt\n",
    "most_paid_rides_dask2 = df[['trip_distance', 'fare_amount']].nlargest(10, \"trip_distance\")\n",
    "most_paid_rides_dask2.set_index('trip_distance',sorted=True).compute().plot(kind='bar', colormap='PiYG', stacked=False, figsize=[10,8], legend=True)\n",
    "#######\n",
    "plt.title('Fares by Distance')\n",
    "plt.xlabel('Trip Distance')\n",
    "plt.ylabel('Fare Amount')\n",
    "plt.show()"
   ]
  },
  {
   "cell_type": "markdown",
   "metadata": {},
   "source": [
    "## TODO: Regression modeling with Scikit Learn"
   ]
  },
  {
   "cell_type": "code",
   "execution_count": 38,
   "metadata": {},
   "outputs": [],
   "source": [
    "df = dd.read_csv(\n",
    "    's3://nyc-tlc/trip data/green_tripdata_2018-02.csv', storage_options={'anon': True},\n",
    "    parse_dates=['lpep_pickup_datetime', 'lpep_dropoff_datetime'],\n",
    ").sample(frac=0.1, replace=True)"
   ]
  },
  {
   "cell_type": "code",
   "execution_count": 36,
   "metadata": {},
   "outputs": [],
   "source": []
  },
  {
   "cell_type": "code",
   "execution_count": 41,
   "metadata": {},
   "outputs": [],
   "source": [
    "df['trip_duration'] = (df['lpep_dropoff_datetime'] - df['lpep_pickup_datetime']).map(lambda x: x.total_seconds())"
   ]
  },
  {
   "cell_type": "code",
   "execution_count": null,
   "metadata": {
    "scrolled": true
   },
   "outputs": [],
   "source": [
    "df.head()"
   ]
  },
  {
   "cell_type": "code",
   "execution_count": 28,
   "metadata": {},
   "outputs": [],
   "source": [
    "import datetime\n",
    "\n",
    "df['pickup_weekday'] = df.lpep_pickup_datetime.dt.weekday\n",
    "df['pickup_weekofyear'] = df.lpep_pickup_datetime.dt.weekofyear\n",
    "df['pickup_hour'] = df.lpep_pickup_datetime.dt.hour\n",
    "df['pickup_minute'] = df.lpep_pickup_datetime.dt.minute\n",
    "df['pickup_year_seconds'] = (df.lpep_pickup_datetime - datetime.datetime(2019, 1, 1, 0, 0, 0)).dt.seconds\n",
    "df['pickup_week_hour'] = (df.pickup_weekday * 24) + df.pickup_hour"
   ]
  },
  {
   "cell_type": "code",
   "execution_count": 29,
   "metadata": {},
   "outputs": [
    {
     "data": {
      "text/html": [
       "<div>\n",
       "<style scoped>\n",
       "    .dataframe tbody tr th:only-of-type {\n",
       "        vertical-align: middle;\n",
       "    }\n",
       "\n",
       "    .dataframe tbody tr th {\n",
       "        vertical-align: top;\n",
       "    }\n",
       "\n",
       "    .dataframe thead th {\n",
       "        text-align: right;\n",
       "    }\n",
       "</style>\n",
       "<table border=\"1\" class=\"dataframe\">\n",
       "  <thead>\n",
       "    <tr style=\"text-align: right;\">\n",
       "      <th></th>\n",
       "      <th>VendorID</th>\n",
       "      <th>lpep_pickup_datetime</th>\n",
       "      <th>lpep_dropoff_datetime</th>\n",
       "      <th>store_and_fwd_flag</th>\n",
       "      <th>RatecodeID</th>\n",
       "      <th>PULocationID</th>\n",
       "      <th>DOLocationID</th>\n",
       "      <th>passenger_count</th>\n",
       "      <th>trip_distance</th>\n",
       "      <th>fare_amount</th>\n",
       "      <th>...</th>\n",
       "      <th>total_amount</th>\n",
       "      <th>payment_type</th>\n",
       "      <th>trip_type</th>\n",
       "      <th>trip_duration</th>\n",
       "      <th>pickup_weekday</th>\n",
       "      <th>pickup_weekofyear</th>\n",
       "      <th>pickup_hour</th>\n",
       "      <th>pickup_minute</th>\n",
       "      <th>pickup_year_seconds</th>\n",
       "      <th>pickup_week_hour</th>\n",
       "    </tr>\n",
       "  </thead>\n",
       "  <tbody>\n",
       "    <tr>\n",
       "      <th>120687</th>\n",
       "      <td>2</td>\n",
       "      <td>2018-02-05 07:41:44</td>\n",
       "      <td>2018-02-05 08:03:52</td>\n",
       "      <td>N</td>\n",
       "      <td>1</td>\n",
       "      <td>33</td>\n",
       "      <td>33</td>\n",
       "      <td>1</td>\n",
       "      <td>1.94</td>\n",
       "      <td>15.0</td>\n",
       "      <td>...</td>\n",
       "      <td>18.30</td>\n",
       "      <td>1</td>\n",
       "      <td>1</td>\n",
       "      <td>1328.0</td>\n",
       "      <td>0</td>\n",
       "      <td>6</td>\n",
       "      <td>7</td>\n",
       "      <td>41</td>\n",
       "      <td>27704</td>\n",
       "      <td>7</td>\n",
       "    </tr>\n",
       "    <tr>\n",
       "      <th>638472</th>\n",
       "      <td>2</td>\n",
       "      <td>2018-02-24 01:07:07</td>\n",
       "      <td>2018-02-24 01:21:12</td>\n",
       "      <td>N</td>\n",
       "      <td>1</td>\n",
       "      <td>145</td>\n",
       "      <td>83</td>\n",
       "      <td>1</td>\n",
       "      <td>2.79</td>\n",
       "      <td>12.5</td>\n",
       "      <td>...</td>\n",
       "      <td>16.56</td>\n",
       "      <td>1</td>\n",
       "      <td>1</td>\n",
       "      <td>845.0</td>\n",
       "      <td>5</td>\n",
       "      <td>8</td>\n",
       "      <td>1</td>\n",
       "      <td>7</td>\n",
       "      <td>4027</td>\n",
       "      <td>121</td>\n",
       "    </tr>\n",
       "    <tr>\n",
       "      <th>179006</th>\n",
       "      <td>1</td>\n",
       "      <td>2018-02-07 12:11:38</td>\n",
       "      <td>2018-02-07 12:33:22</td>\n",
       "      <td>N</td>\n",
       "      <td>1</td>\n",
       "      <td>168</td>\n",
       "      <td>75</td>\n",
       "      <td>1</td>\n",
       "      <td>2.90</td>\n",
       "      <td>15.5</td>\n",
       "      <td>...</td>\n",
       "      <td>16.30</td>\n",
       "      <td>2</td>\n",
       "      <td>1</td>\n",
       "      <td>1304.0</td>\n",
       "      <td>2</td>\n",
       "      <td>6</td>\n",
       "      <td>12</td>\n",
       "      <td>11</td>\n",
       "      <td>43898</td>\n",
       "      <td>60</td>\n",
       "    </tr>\n",
       "    <tr>\n",
       "      <th>470362</th>\n",
       "      <td>1</td>\n",
       "      <td>2018-02-17 17:24:02</td>\n",
       "      <td>2018-02-17 17:30:52</td>\n",
       "      <td>N</td>\n",
       "      <td>1</td>\n",
       "      <td>74</td>\n",
       "      <td>41</td>\n",
       "      <td>1</td>\n",
       "      <td>0.80</td>\n",
       "      <td>6.0</td>\n",
       "      <td>...</td>\n",
       "      <td>6.80</td>\n",
       "      <td>2</td>\n",
       "      <td>1</td>\n",
       "      <td>410.0</td>\n",
       "      <td>5</td>\n",
       "      <td>7</td>\n",
       "      <td>17</td>\n",
       "      <td>24</td>\n",
       "      <td>62642</td>\n",
       "      <td>137</td>\n",
       "    </tr>\n",
       "    <tr>\n",
       "      <th>32910</th>\n",
       "      <td>2</td>\n",
       "      <td>2018-02-02 08:43:03</td>\n",
       "      <td>2018-02-02 09:12:08</td>\n",
       "      <td>N</td>\n",
       "      <td>1</td>\n",
       "      <td>138</td>\n",
       "      <td>145</td>\n",
       "      <td>1</td>\n",
       "      <td>7.01</td>\n",
       "      <td>24.5</td>\n",
       "      <td>...</td>\n",
       "      <td>27.63</td>\n",
       "      <td>1</td>\n",
       "      <td>1</td>\n",
       "      <td>1745.0</td>\n",
       "      <td>4</td>\n",
       "      <td>5</td>\n",
       "      <td>8</td>\n",
       "      <td>43</td>\n",
       "      <td>31383</td>\n",
       "      <td>104</td>\n",
       "    </tr>\n",
       "  </tbody>\n",
       "</table>\n",
       "<p>5 rows × 26 columns</p>\n",
       "</div>"
      ],
      "text/plain": [
       "        VendorID lpep_pickup_datetime lpep_dropoff_datetime  \\\n",
       "120687         2  2018-02-05 07:41:44   2018-02-05 08:03:52   \n",
       "638472         2  2018-02-24 01:07:07   2018-02-24 01:21:12   \n",
       "179006         1  2018-02-07 12:11:38   2018-02-07 12:33:22   \n",
       "470362         1  2018-02-17 17:24:02   2018-02-17 17:30:52   \n",
       "32910          2  2018-02-02 08:43:03   2018-02-02 09:12:08   \n",
       "\n",
       "       store_and_fwd_flag  RatecodeID  PULocationID  DOLocationID  \\\n",
       "120687                  N           1            33            33   \n",
       "638472                  N           1           145            83   \n",
       "179006                  N           1           168            75   \n",
       "470362                  N           1            74            41   \n",
       "32910                   N           1           138           145   \n",
       "\n",
       "        passenger_count  trip_distance  fare_amount  ...  total_amount  \\\n",
       "120687                1           1.94         15.0  ...         18.30   \n",
       "638472                1           2.79         12.5  ...         16.56   \n",
       "179006                1           2.90         15.5  ...         16.30   \n",
       "470362                1           0.80          6.0  ...          6.80   \n",
       "32910                 1           7.01         24.5  ...         27.63   \n",
       "\n",
       "        payment_type  trip_type  trip_duration  pickup_weekday  \\\n",
       "120687             1          1         1328.0               0   \n",
       "638472             1          1          845.0               5   \n",
       "179006             2          1         1304.0               2   \n",
       "470362             2          1          410.0               5   \n",
       "32910              1          1         1745.0               4   \n",
       "\n",
       "        pickup_weekofyear  pickup_hour  pickup_minute  pickup_year_seconds  \\\n",
       "120687                  6            7             41                27704   \n",
       "638472                  8            1              7                 4027   \n",
       "179006                  6           12             11                43898   \n",
       "470362                  7           17             24                62642   \n",
       "32910                   5            8             43                31383   \n",
       "\n",
       "        pickup_week_hour  \n",
       "120687                 7  \n",
       "638472               121  \n",
       "179006                60  \n",
       "470362               137  \n",
       "32910                104  \n",
       "\n",
       "[5 rows x 26 columns]"
      ]
     },
     "execution_count": 29,
     "metadata": {},
     "output_type": "execute_result"
    }
   ],
   "source": [
    "df.head()"
   ]
  },
  {
   "cell_type": "code",
   "execution_count": null,
   "metadata": {},
   "outputs": [],
   "source": []
  },
  {
   "cell_type": "code",
   "execution_count": null,
   "metadata": {},
   "outputs": [],
   "source": []
  },
  {
   "cell_type": "code",
   "execution_count": null,
   "metadata": {},
   "outputs": [],
   "source": []
  },
  {
   "cell_type": "code",
   "execution_count": null,
   "metadata": {},
   "outputs": [],
   "source": []
  },
  {
   "cell_type": "code",
   "execution_count": null,
   "metadata": {},
   "outputs": [],
   "source": []
  },
  {
   "cell_type": "code",
   "execution_count": null,
   "metadata": {},
   "outputs": [],
   "source": []
  },
  {
   "cell_type": "code",
   "execution_count": null,
   "metadata": {},
   "outputs": [],
   "source": [
    "import datetime\n",
    "\n",
    "\n",
    "taxi['pickup_weekday'] = taxi.lpep_pickup_datetime.dt.weekday\n",
    "taxi['pickup_weekofyear'] = taxi.lpep_pickup_datetime.dt.weekofyear\n",
    "taxi['pickup_hour'] = taxi.lpep_pickup_datetime.dt.hour\n",
    "taxi['pickup_minute'] = taxi.lpep_pickup_datetime.dt.minute\n",
    "taxi['pickup_year_seconds'] = (taxi.lpep_pickup_datetime - datetime.datetime(2019, 1, 1, 0, 0, 0)).dt.seconds\n",
    "taxi['pickup_week_hour'] = (taxi.pickup_weekday * 24) + taxi.pickup_hour\n",
    "taxi['passenger_count'] = taxi.passenger_count.astype(float).fillna(-1)\n",
    "taxi = taxi.fillna(value={'VendorID': 'missing', 'RatecodeID': 'missing', 'store_and_fwd_flag': 'missing' })\n",
    "\n",
    "# keep track of column names for pipeline steps\n",
    "numeric_feat = ['pickup_weekday',  'pickup_weekofyear', 'pickup_hour', 'pickup_minute', 'pickup_year_seconds', 'pickup_week_hour',  'passenger_count']\n",
    "categorical_feat = ['VendorID', 'RatecodeID', 'store_and_fwd_flag', 'PULocationID', 'DOLocationID']\n",
    "features = numeric_feat + categorical_feat\n",
    "y_col = 'total_amount'"
   ]
  },
  {
   "cell_type": "code",
   "execution_count": null,
   "metadata": {},
   "outputs": [],
   "source": [
    "from sklearn.pipeline import Pipeline\n",
    "from sklearn.linear_model import ElasticNet\n",
    "from sklearn.compose import ColumnTransformer\n",
    "from sklearn.preprocessing import StandardScaler, OneHotEncoder\n",
    "from sklearn.model_selection import GridSearchCV\n",
    "import numpy as np\n",
    "\n",
    "pipeline = Pipeline(steps=[\n",
    "    ('preprocess', ColumnTransformer(transformers=[\n",
    "        ('num', StandardScaler(), numeric_feat),\n",
    "        ('cat', OneHotEncoder(handle_unknown='ignore', sparse=False), categorical_feat),\n",
    "    ])),\n",
    "    ('clf', ElasticNet(normalize=False, max_iter=10)),\n",
    "])\n",
    "\n",
    "# this is our grid\n",
    "params = {\n",
    "    'clf__l1_ratio': np.arange(0, 1.01, 0.01),\n",
    "    'clf__alpha': [0, 0.5, 1, 2],\n",
    "}\n",
    "\n",
    "grid_search = GridSearchCV(pipeline, params, cv=3, n_jobs=-1, scoring='neg_mean_squared_error')\n",
    "grid_search.fit(taxi[features], taxi[y_col])\n",
    "print(grid_search.best_score_)\n"
   ]
  },
  {
   "cell_type": "code",
   "execution_count": null,
   "metadata": {},
   "outputs": [],
   "source": [
    "import numpy as np\n",
    "# this is our grid\n",
    "params = {\n",
    "    'clf__l1_ratio': np.arange(0, 1.01, 0.01),\n",
    "    'clf__alpha': [0, 0.5, 1, 2],\n",
    "}\n"
   ]
  },
  {
   "cell_type": "code",
   "execution_count": null,
   "metadata": {},
   "outputs": [],
   "source": [
    "from sklearn.pipeline import Pipeline\n",
    "from sklearn.linear_model import ElasticNet\n",
    "from sklearn.compose import ColumnTransformer\n",
    "from sklearn.preprocessing import StandardScaler, OneHotEncoder\n",
    "from sklearn.model_selection import GridSearchCV\n",
    "\n",
    "from dask_ml.compose import ColumnTransformer\n",
    "from dask_ml.preprocessing import StandardScaler, DummyEncoder, Categorizer\n",
    "from dask_ml.model_selection import GridSearchCV\n",
    "\n",
    "# Dask has slightly different way of one-hot encoding\n",
    "pipeline = Pipeline(steps=[\n",
    "    ('categorize', Categorizer(columns=categorical_feat)),\n",
    "    ('onehot', DummyEncoder(columns=categorical_feat)),\n",
    "    ('scale', ColumnTransformer(transformers=[('num', StandardScaler(), numeric_feat)])),\n",
    "    ('clf', ElasticNet(normalize=False, max_iter=10)),\n",
    "])\n",
    "\n",
    "# params same as above\n",
    "grid_search = GridSearchCV(pipeline, params, cv=3, scoring='neg_mean_squared_error')\n"
   ]
  },
  {
   "cell_type": "code",
   "execution_count": null,
   "metadata": {},
   "outputs": [],
   "source": [
    "from joblib import _dask, parallel_backend\n",
    "from sklearn.utils import register_parallel_backend\n",
    "from joblib import parallel_backend\n",
    "register_parallel_backend('distributed',_dask.DaskDistributedBackend)\n",
    "import numpy as np\n",
    "from time import time"
   ]
  },
  {
   "cell_type": "code",
   "execution_count": null,
   "metadata": {},
   "outputs": [],
   "source": [
    "#start = time()\n",
    "#with parallel_backend('distributed', scheduler_host='dask-Scheduler.local-dask:8786'):\n",
    "#    grid_search.fit(taxi[features], taxi[y_col])"
   ]
  },
  {
   "cell_type": "code",
   "execution_count": null,
   "metadata": {
    "scrolled": true
   },
   "outputs": [],
   "source": [
    "#grid_search.fit(taxi[features], taxi[y_col])\n",
    "#print(grid_search.best_score_)"
   ]
  },
  {
   "cell_type": "code",
   "execution_count": null,
   "metadata": {},
   "outputs": [],
   "source": [
    "#print(grid_search.best_score_)"
   ]
  },
  {
   "cell_type": "code",
   "execution_count": null,
   "metadata": {},
   "outputs": [],
   "source": [
    "from pprint import pprint\n",
    "from time import time\n",
    "import logging\n",
    "\n",
    "from sklearn.datasets import fetch_20newsgroups\n",
    "from sklearn.feature_extraction.text import HashingVectorizer\n",
    "from sklearn.feature_extraction.text import TfidfTransformer\n",
    "from sklearn.linear_model import SGDClassifier\n",
    "from sklearn.model_selection import GridSearchCV\n",
    "from sklearn.pipeline import Pipeline\n"
   ]
  },
  {
   "cell_type": "code",
   "execution_count": null,
   "metadata": {},
   "outputs": [],
   "source": [
    "# Scale Up: set categories=None to use all the categories\n",
    "categories = [\n",
    "    'alt.atheism',\n",
    "    'talk.religion.misc',\n",
    "]\n",
    "\n",
    "print(\"Loading 20 newsgroups dataset for categories:\")\n",
    "print(categories)\n",
    "\n",
    "data = fetch_20newsgroups(subset='train', categories=categories)\n",
    "print(\"%d documents\" % len(data.filenames))\n",
    "print(\"%d categories\" % len(data.target_names))\n",
    "print()"
   ]
  },
  {
   "cell_type": "code",
   "execution_count": null,
   "metadata": {},
   "outputs": [],
   "source": [
    "pipeline = Pipeline([\n",
    "    ('vect', HashingVectorizer()),\n",
    "    ('tfidf', TfidfTransformer()),\n",
    "    ('clf', SGDClassifier(max_iter=1000)),\n",
    "])\n"
   ]
  },
  {
   "cell_type": "code",
   "execution_count": null,
   "metadata": {},
   "outputs": [],
   "source": [
    "parameters = {\n",
    "    'tfidf__use_idf': (True, False),\n",
    "    'tfidf__norm': ('l1', 'l2'),\n",
    "    'clf__alpha': (0.00001, 0.000001),\n",
    "    # 'clf__penalty': ('l2', 'elasticnet'),\n",
    "    # 'clf__n_iter': (10, 50, 80),\n",
    "}\n"
   ]
  },
  {
   "cell_type": "code",
   "execution_count": null,
   "metadata": {},
   "outputs": [],
   "source": [
    "grid_search = GridSearchCV(pipeline, parameters, n_jobs=-1, verbose=1, cv=3, refit=False, iid=False)"
   ]
  },
  {
   "cell_type": "code",
   "execution_count": null,
   "metadata": {},
   "outputs": [],
   "source": [
    "grid_search.fit(data.data, data.target)"
   ]
  },
  {
   "cell_type": "code",
   "execution_count": null,
   "metadata": {},
   "outputs": [],
   "source": [
    "import joblib\n",
    "\n",
    "with joblib.parallel_backend('dask'):\n",
    "    grid_search.fit(data.data, data.target)"
   ]
  },
  {
   "cell_type": "code",
   "execution_count": null,
   "metadata": {},
   "outputs": [],
   "source": []
  },
  {
   "cell_type": "code",
   "execution_count": null,
   "metadata": {},
   "outputs": [],
   "source": [
    "from sklearn import datasets\n",
    "from sklearn.model_selection import train_test_split\n",
    "from sklearn.model_selection import GridSearchCV\n",
    "from sklearn.ensemble import RandomForestClassifier\n",
    "\n",
    "from joblib import _dask, parallel_backend\n",
    "from joblib import register_parallel_backend\n",
    "from joblib import parallel_backend\n",
    "register_parallel_backend('distributed',_dask.DaskDistributedBackend)\n",
    "import numpy as np\n",
    "from time import time"
   ]
  },
  {
   "cell_type": "code",
   "execution_count": null,
   "metadata": {},
   "outputs": [],
   "source": [
    "# Loading the Digits dataset\n",
    "import joblib\n",
    "digits = datasets.load_digits()\n",
    "# To apply an classifier on this data, we need to flatten the image, to\n",
    "# turn the data in a (samples, feature) matrix:\n",
    "n_samples = len(digits.images)\n",
    "X = digits.images.reshape((n_samples, -1))\n",
    "y = digits.target\n",
    "# Split the dataset in two equal parts\n",
    "X_train, X_test, y_train, y_test = train_test_split(X, y, test_size=0.3, random_state=0)\n",
    "clf = RandomForestClassifier(n_estimators=20)\n",
    "# use a full grid over all parameters\n",
    "param_grid = {\"max_depth\": [3,4,5,6, None],\n",
    "              \"max_features\": [1, 3, 10, None],\n",
    "              \"min_samples_split\": [2, 3, 10],\n",
    "              \"bootstrap\": [True, False],\n",
    "              \"criterion\": [\"gini\", \"entropy\"]}\n",
    "# run grid search\n",
    "grid_search = GridSearchCV(clf, param_grid=param_grid, cv=8, iid=True)\n",
    "start = time()\n",
    "\n",
    "with joblib.parallel_backend('dask'):\n",
    "    grid_search.fit(X, y)\n",
    "   # clf.fit(X, y)\n",
    "\n",
    "#with parallel_backend('distributed', scheduler_host='dask-Scheduler.local-dask:8786'):\n",
    "#    grid_search.fit(X, y)\n",
    "#    clf.fit(X, y)"
   ]
  },
  {
   "cell_type": "code",
   "execution_count": null,
   "metadata": {},
   "outputs": [],
   "source": [
    "print(\"GridSearchCV took %.2f seconds for %d candidate parameter settings.\"\n",
    "      % (time() - start, len(grid_search.cv_results_['params'])))\n",
    "results = grid_search.cv_results_\n",
    "    \n",
    "# Return the index of the best validation score\n",
    "idx = np.flatnonzero(results['rank_test_score'] == 1 )\n",
    "print(\"The best score is: \" + str(results['mean_test_score'][idx[0]]))\n",
    "                     \n",
    "#print the parameters for the best job      \n",
    "print(\"Parameters: {0}\".format(results['params'][idx[0]]))"
   ]
  },
  {
   "cell_type": "code",
   "execution_count": null,
   "metadata": {},
   "outputs": [],
   "source": [
    "print(results)"
   ]
  },
  {
   "cell_type": "markdown",
   "metadata": {},
   "source": [
    "### create pipeline for regression model"
   ]
  },
  {
   "cell_type": "code",
   "execution_count": null,
   "metadata": {},
   "outputs": [],
   "source": [
    "from dask_ml.compose import ColumnTransformer\n",
    "from dask_ml.preprocessing import StandardScaler, Categorizer\n",
    "from dask_ml.model_selection import GridSearchCV\n",
    "\n",
    "# Dask has slightly different way of one-hot encoding\n",
    "pipeline = Pipeline(steps=[\n",
    "    ('categorize', Categorizer(columns=categorical_feat)),\n",
    "   # ('onehot', DummyEncoder(columns=categorical_feat)),\n",
    "    ('scale', ColumnTransformer(transformers=[('num', StandardScaler(), numeric_feat)])),\n",
    "    ('clf', ElasticNet(normalize=False, max_iter=100)),\n",
    "])\n",
    "\n",
    "# params same as above\n",
    "grid_search = GridSearchCV(pipeline, params, cv=3, scoring='neg_mean_squared_error')\n",
    "\n"
   ]
  },
  {
   "cell_type": "code",
   "execution_count": null,
   "metadata": {},
   "outputs": [],
   "source": [
    "from time import time\n",
    "import numpy as np\n",
    "import pandas as pd\n",
    "import matplotlib.pyplot as plt\n",
    "from mpl_toolkits.mplot3d import Axes3D\n",
    "\n",
    "from sklearn.model_selection import train_test_split\n",
    "from sklearn.preprocessing import QuantileTransformer\n",
    "from sklearn.pipeline import make_pipeline\n",
    "\n",
    "from sklearn.inspection import partial_dependence\n",
    "from sklearn.inspection import plot_partial_dependence\n",
    "from sklearn.experimental import enable_hist_gradient_boosting  # noqa\n",
    "from sklearn.ensemble import HistGradientBoostingRegressor\n",
    "from sklearn.neural_network import MLPRegressor\n",
    "from sklearn.datasets import fetch_california_housing\n"
   ]
  },
  {
   "cell_type": "code",
   "execution_count": null,
   "metadata": {},
   "outputs": [],
   "source": [
    "cal_housing = fetch_california_housing()\n",
    "X = pd.DataFrame(cal_housing.data, columns=cal_housing.feature_names)\n",
    "y = cal_housing.target\n",
    "\n",
    "y -= y.mean()\n",
    "\n",
    "X_train, X_test, y_train, y_test = train_test_split(X, y, test_size=0.1,\n",
    "                                                    random_state=0)\n"
   ]
  },
  {
   "cell_type": "code",
   "execution_count": null,
   "metadata": {},
   "outputs": [],
   "source": [
    "X_train.head()"
   ]
  },
  {
   "cell_type": "code",
   "execution_count": null,
   "metadata": {},
   "outputs": [],
   "source": [
    "cal_housing.target"
   ]
  },
  {
   "cell_type": "markdown",
   "metadata": {},
   "source": [
    "## Linear Regression"
   ]
  },
  {
   "cell_type": "code",
   "execution_count": null,
   "metadata": {},
   "outputs": [],
   "source": [
    "df['trip_duration'] = (df['lpep_dropoff_datetime'] - df['lpep_pickup_datetime']).map(lambda x: x.total_seconds())"
   ]
  },
  {
   "cell_type": "markdown",
   "metadata": {},
   "source": [
    "## Run your python script container for your machine learning work.  \n",
    "### Make sure to follow the steps in github repo for building/deploying this container before running this step"
   ]
  },
  {
   "cell_type": "code",
   "execution_count": null,
   "metadata": {},
   "outputs": [],
   "source": [
    "!aws ecr get-login-password --region us-west-2 | docker login --username AWS --password-stdin 716664005094.dkr.ecr.us-west-2.amazonaws.com"
   ]
  },
  {
   "cell_type": "code",
   "execution_count": null,
   "metadata": {},
   "outputs": [],
   "source": [
    "!docker run -e s3url='s3://nyc-tlc/trip data/green_tripdata_2018-02.csv' -e schurl='tcp://Dask-Scheduler.local-dask:8786' 716664005094.dkr.ecr.us-west-2.amazonaws.com/daskclientapp:latest"
   ]
  },
  {
   "cell_type": "markdown",
   "metadata": {},
   "source": [
    "## Scale in the Fargate cluster worker nodes after all work is done"
   ]
  },
  {
   "cell_type": "code",
   "execution_count": null,
   "metadata": {},
   "outputs": [],
   "source": [
    "!pip3 install --upgrade --user awscli"
   ]
  },
  {
   "cell_type": "code",
   "execution_count": null,
   "metadata": {},
   "outputs": [],
   "source": [
    "conda install -c conda-forge awscli -y"
   ]
  },
  {
   "cell_type": "code",
   "execution_count": null,
   "metadata": {
    "scrolled": false
   },
   "outputs": [],
   "source": [
    "!aws ecs update-service --service Dask-Workers --desired-count 1 --cluster Fargate-Dask-Cluster"
   ]
  },
  {
   "cell_type": "code",
   "execution_count": null,
   "metadata": {},
   "outputs": [],
   "source": []
  },
  {
   "cell_type": "code",
   "execution_count": null,
   "metadata": {},
   "outputs": [],
   "source": []
  }
 ],
 "metadata": {
  "kernelspec": {
   "display_name": "Python 3",
   "language": "python",
   "name": "python3"
  },
  "language_info": {
   "codemirror_mode": {
    "name": "ipython",
    "version": 3
   },
   "file_extension": ".py",
   "mimetype": "text/x-python",
   "name": "python",
   "nbconvert_exporter": "python",
   "pygments_lexer": "ipython3",
   "version": "3.7.6"
  }
 },
 "nbformat": 4,
 "nbformat_minor": 4
}
